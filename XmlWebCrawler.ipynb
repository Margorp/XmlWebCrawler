{
  "nbformat": 4,
  "nbformat_minor": 0,
  "metadata": {
    "colab": {
      "name": "XmlWebCrawler.ipynb",
      "version": "0.3.2",
      "provenance": [],
      "include_colab_link": true
    },
    "kernelspec": {
      "name": "python3",
      "display_name": "Python 3"
    }
  },
  "cells": [
    {
      "cell_type": "markdown",
      "metadata": {
        "id": "view-in-github",
        "colab_type": "text"
      },
      "source": [
        "<a href=\"https://colab.research.google.com/github/Margorp/XmlWebCrawler/blob/master/XmlWebCrawler.ipynb\" target=\"_parent\"><img src=\"https://colab.research.google.com/assets/colab-badge.svg\" alt=\"Open In Colab\"/></a>"
      ]
    },
    {
      "metadata": {
        "id": "3Kpnn9-spQaA",
        "colab_type": "code",
        "colab": {}
      },
      "cell_type": "code",
      "source": [
        "# sample xml demonstrate attribute's range values implementing to template\n",
        "xml = \"\"\"<?xml version='1.0' encoding='utf-8'?>\n",
        "<config>\n",
        "  <template-url name=\"John\">http://www.template_url/student.php?name={{name}}s</template-url>\n",
        "  <template-url id=\"1:10\">http://www.template_url/student.php?id={{id}}02d</template-url>\n",
        "  <template-url height=\"120.5\">http://www.template_url/student.php?height={{height}}d</template-url>\n",
        "</config>\n",
        "\"\"\""
      ],
      "execution_count": 0,
      "outputs": []
    },
    {
      "metadata": {
        "id": "OlW39PGKqEu9",
        "colab_type": "code",
        "colab": {
          "base_uri": "https://localhost:8080/",
          "height": 71
        },
        "outputId": "e51a258c-5649-4265-daac-0f13091a6492"
      },
      "cell_type": "code",
      "source": [
        "from bs4 import BeautifulSoup as BS\n",
        "\n",
        "soup = BS(xml, 'lxml')\n",
        "\n",
        "config = soup.find('config')\n",
        "# dir(config)\n",
        "children = config.findChildren(recursive=False)\n",
        "for child in children:\n",
        "  inner_text = child.getText()\n",
        "  attrs = child.attrs\n",
        "  for attr_name in attrs:\n",
        "    attr_value = attrs[attr_name]\n",
        "    print(inner_text, attr_name, attr_value)"
      ],
      "execution_count": 18,
      "outputs": [
        {
          "output_type": "stream",
          "text": [
            "http://www.template_url/student.php?name={{name}}s name John\n",
            "http://www.template_url/student.php?id={{id}}02d id 1:10\n",
            "http://www.template_url/student.php?height={{height}}d height 120.5\n"
          ],
          "name": "stdout"
        }
      ]
    }
  ]
}