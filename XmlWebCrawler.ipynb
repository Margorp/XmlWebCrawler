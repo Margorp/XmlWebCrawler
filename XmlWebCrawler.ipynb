{
  "nbformat": 4,
  "nbformat_minor": 0,
  "metadata": {
    "colab": {
      "name": "XmlWebCrawler.ipynb",
      "version": "0.3.2",
      "provenance": [],
      "include_colab_link": true
    },
    "kernelspec": {
      "name": "python3",
      "display_name": "Python 3"
    }
  },
  "cells": [
    {
      "cell_type": "markdown",
      "metadata": {
        "id": "view-in-github",
        "colab_type": "text"
      },
      "source": [
        "<a href=\"https://colab.research.google.com/github/Margorp/XmlWebCrawler/blob/master/XmlWebCrawler.ipynb\" target=\"_parent\"><img src=\"https://colab.research.google.com/assets/colab-badge.svg\" alt=\"Open In Colab\"/></a>"
      ]
    },
    {
      "metadata": {
        "id": "3Kpnn9-spQaA",
        "colab_type": "code",
        "colab": {}
      },
      "cell_type": "code",
      "source": [
        "# sample xml demonstrate attribute's range values implementing to template\n",
        "xml = \"\"\"<?xml version='1.0' encoding='utf-8'?>\n",
        "<config>\n",
        "  <template-url age=\"1:10\">http://www.template_url/student_height.php?age={{age}}02d</template-url>\n",
        "</config>\n",
        "\"\"\""
      ],
      "execution_count": 0,
      "outputs": []
    },
    {
      "metadata": {
        "id": "OlW39PGKqEu9",
        "colab_type": "code",
        "colab": {
          "base_uri": "https://localhost:8080/",
          "height": 108
        },
        "outputId": "ddb29fc6-6413-4d70-9e37-e80e88e9d80a"
      },
      "cell_type": "code",
      "source": [
        "from bs4 import BeautifulSoup as BS\n",
        "\n",
        "soup = BS(xml, 'lxml')\n",
        "print(soup)"
      ],
      "execution_count": 2,
      "outputs": [
        {
          "output_type": "stream",
          "text": [
            "<?xml version='1.0' encoding='utf-8'?><html><body><config>\n",
            "<template-url age=\"1:10\">http://www.template_url/student_height.php?age={{age}}02d</template-url>\n",
            "</config>\n",
            "</body></html>\n"
          ],
          "name": "stdout"
        }
      ]
    }
  ]
}